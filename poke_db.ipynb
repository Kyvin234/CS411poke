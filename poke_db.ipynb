{
 "cells": [
  {
   "cell_type": "code",
   "execution_count": 2,
   "metadata": {},
   "outputs": [],
   "source": [
    "from MySQLdb import _mysql\n",
    "import mysql.connector\n",
    "import pokepy"
   ]
  },
  {
   "cell_type": "code",
   "execution_count": 9,
   "metadata": {},
   "outputs": [],
   "source": [
    "# generation map to integer\n",
    "g_map = {\n",
    "    \"generation-i\" : 1,\n",
    "    \"generation-ii\": 2,\n",
    "    \"generation-iii\": 3,\n",
    "    \"generation-iv\": 4,\n",
    "    \"generation-v\": 5,\n",
    "    \"generation-vi\": 6,\n",
    "    \"generation-vii\": 7,\n",
    "    \"generation-viii\": 8,\n",
    "    \"generation-ix\": 9, \n",
    "}\n",
    "# pokemon api client\n",
    "client = pokepy.V2Client()"
   ]
  },
  {
   "cell_type": "code",
   "execution_count": 28,
   "metadata": {},
   "outputs": [],
   "source": [
    "# obtain datas for pokemon specie\n",
    "TOTAL_POKEMON = 893\n",
    "pokemon_species = []\n",
    "for i in range(1, TOTAL_POKEMON+1):\n",
    "    specie = client.get_pokemon_species(i)\n",
    "    entry = []\n",
    "    entry.append(specie.name)\n",
    "    entry.append(specie.id)\n",
    "    entry.append(g_map[specie.generation.name])\n",
    "    entry.append(specie.gender_rate)\n",
    "    entry.append(specie.capture_rate)\n",
    "    pokemon_species.append(tuple(entry))"
   ]
  },
  {
   "cell_type": "code",
   "execution_count": 49,
   "metadata": {},
   "outputs": [],
   "source": [
    "# insert pokemon species into db\n",
    "connection = mysql.connector.connect(host='localhost',\n",
    "                                         database='cs411',\n",
    "                                         user='root',\n",
    "                                         password='')\n",
    "mycursor = connection.cursor()\n",
    "mycursor.executemany(\"\"\"INSERT INTO pokewiki_s_table(s_name, dex_id, gen, gender_rate, capture_rate) \n",
    "                        VALUES (%s, %s, %s, %s, %s)\"\"\",pokemon_species)\n",
    "connection.commit()\n",
    "mycursor.close()\n",
    "connection.close()   "
   ]
  },
  {
   "cell_type": "code",
   "execution_count": null,
   "metadata": {},
   "outputs": [],
   "source": [
    "# pokemon forms\n",
    "TOTAL_POKEMON = 893\n",
    "pokemon_forms = []"
   ]
  },
  {
   "cell_type": "code",
   "execution_count": 63,
   "metadata": {},
   "outputs": [],
   "source": [
    "# normal pokemons\n",
    "# for i in range(1, TOTAL_POKEMON+1):\n",
    "#     form = client.get_pokemon(i)\n",
    "#     entry = []\n",
    "#     entry.append(form.name)\n",
    "#     entry.append(form.species.name)\n",
    "#     entry.append(form.height)\n",
    "#     entry.append(form.weight)\n",
    "#     if(len(form.stats) != 0):\n",
    "#         for j in range(0, 6):\n",
    "#             entry.append(form.stats[j].base_stat)\n",
    "#     else:\n",
    "#         for j in range(0, 6):\n",
    "#             entry.append(None)\n",
    "#     entry.append(form.types[0].type.name)\n",
    "#     if(len(form.types) == 2):\n",
    "#         entry.append(form.types[1].type.name)\n",
    "#     else:\n",
    "#         entry.append(\"\")\n",
    "#     pokemon_forms.append(tuple(entry))\n",
    "# mega pokemons\n",
    "# for i in range(10001, 10157+1):\n",
    "#     form = client.get_pokemon(i)\n",
    "#     entry = []\n",
    "#     entry.append(form.name)\n",
    "#     entry.append(form.species.name)\n",
    "#     entry.append(form.height)\n",
    "#     entry.append(form.weight)\n",
    "#     if(len(form.stats) != 0):\n",
    "#         for j in range(0, 6):\n",
    "#             entry.append(form.stats[j].base_stat)\n",
    "#     else:\n",
    "#         for j in range(0, 6):\n",
    "#             entry.append(None)\n",
    "#     entry.append(form.types[0].type.name)\n",
    "#     if(len(form.types) == 2):\n",
    "#         entry.append(form.types[1].type.name)\n",
    "#     else:\n",
    "#         entry.append(\"\")\n",
    "#     pokemon_forms.append(tuple(entry))"
   ]
  },
  {
   "cell_type": "code",
   "execution_count": 71,
   "metadata": {},
   "outputs": [],
   "source": [
    "# insert pokemon forms into db\n",
    "connection = mysql.connector.connect(host='localhost',\n",
    "                                         database='cs411',\n",
    "                                         user='root',\n",
    "                                         password='')\n",
    "mycursor = connection.cursor()\n",
    "mycursor.executemany(\"\"\"INSERT INTO pokewiki_f_table(f_name,s_name_id,height,weight,hp,atk,df,spatk,spdf,spd,type1,type2) \n",
    "                        VALUES (%s, %s, %s, %s, %s, %s, %s, %s, %s, %s, %s, %s)\"\"\",pokemon_forms)\n",
    "connection.commit()\n",
    "mycursor.close()\n",
    "connection.close()  "
   ]
  },
  {
   "cell_type": "code",
   "execution_count": null,
   "metadata": {},
   "outputs": [],
   "source": [
    "types"
   ]
  },
  {
   "cell_type": "code",
   "execution_count": 73,
   "metadata": {},
   "outputs": [],
   "source": [
    "# insert types in pokewiki_t_table\n",
    "connection = mysql.connector.connect(host='localhost',\n",
    "                                         database='cs411',\n",
    "                                         user='root',\n",
    "                                         password='')\n",
    "mycursor = connection.cursor()\n",
    "# sql = \n",
    "val = [('normal', 0), ('fire',1), ('water',2), ('grass',3), ('flying',4), ('fighting',5), ('poison',6), ('electric',7), ('ground',8), ('rock',9), ('psychic',10), ('ice',11), ('bug',12), ('ghost',13), ('steel',14), ('dragon',15), ('dark',16), ('fairy',17)]\n",
    "# val = (\"Normal\")\n",
    "mycursor.executemany(\"INSERT INTO pokewiki_t_table(t_name, t_id) VALUES (%s, %s)\",val)\n",
    "connection.commit()\n",
    "mycursor.close()\n",
    "connection.close()"
   ]
  },
  {
   "cell_type": "code",
   "execution_count": null,
   "metadata": {},
   "outputs": [],
   "source": [
    "# ability relation and table"
   ]
  },
  {
   "cell_type": "code",
   "execution_count": 4,
   "metadata": {},
   "outputs": [],
   "source": [
    "af_relations = []\n",
    "for j in range(1, 234):\n",
    "    ability = client.get_ability(j)\n",
    "    for i in range(0, len(ability.pokemon)):\n",
    "        temp = []\n",
    "        temp.append(ability.id)\n",
    "        temp.append(ability.pokemon[i].pokemon.name)\n",
    "        temp.append(ability.pokemon[i].is_hidden)\n",
    "        af_relations.append(tuple(temp))"
   ]
  },
  {
   "cell_type": "code",
   "execution_count": 8,
   "metadata": {},
   "outputs": [],
   "source": [
    "connection = mysql.connector.connect(host='localhost',\n",
    "                                         database='cs411',\n",
    "                                         user='root',\n",
    "                                         password='')\n",
    "mycursor = connection.cursor()\n",
    "mycursor.executemany(\"\"\"INSERT INTO pokewiki_a_relation(a_id, f_name_id, is_hidden) \n",
    "                        VALUES (%s, %s, %s)\"\"\",af_relations)\n",
    "connection.commit()\n",
    "mycursor.close()\n",
    "connection.close()"
   ]
  },
  {
   "cell_type": "code",
   "execution_count": 3,
   "metadata": {},
   "outputs": [],
   "source": [
    "abilities = []\n",
    "for i in range(1,234):\n",
    "    temp = []\n",
    "    ability = client.get_ability(i)\n",
    "    temp.append(ability.id)\n",
    "    temp.append(ability.name)\n",
    "    if i <= 191:\n",
    "        temp.append(ability.effect_entries[1].effect)\n",
    "    else: \n",
    "        temp.append(ability.effect_entries[0].effect)\n",
    "    abilities.append(tuple(temp))"
   ]
  },
  {
   "cell_type": "code",
   "execution_count": 5,
   "metadata": {},
   "outputs": [],
   "source": [
    "# print(val)\n",
    "connection = mysql.connector.connect(host='localhost',\n",
    "                                         database='cs411',\n",
    "                                         user='root',\n",
    "                                         password='')\n",
    "mycursor = connection.cursor()\n",
    "mycursor.executemany(\"\"\"INSERT INTO pokewiki_a_table(a_id, a_name, description) \n",
    "                        VALUES (%s, %s, %s)\"\"\",abilities)\n",
    "connection.commit()\n",
    "mycursor.close()\n",
    "connection.close()\n",
    "# dir(client.get_ability(i).effect_entries)\n",
    "# print(client.get_ability(54).effect_entries[1].effect)"
   ]
  },
  {
   "cell_type": "code",
   "execution_count": null,
   "metadata": {},
   "outputs": [],
   "source": [
    "# moves\n",
    "TOTAL_MOVES = 796"
   ]
  },
  {
   "cell_type": "code",
   "execution_count": 145,
   "metadata": {},
   "outputs": [
    {
     "name": "stdout",
     "output_type": "stream",
     "text": [
      "13\n",
      "razor-wind\n",
      "10\n",
      "80\n",
      "0\n",
      "special\n",
      "normal\n",
      "1\n",
      "Inflicts regular damage.  User's critical hit rate is one level higher when using this move.  User charges for one turn before attacking.\n",
      "\n",
      "This move cannot be selected by sleep talk.\n"
     ]
    }
   ],
   "source": [
    "move = client.get_move(13)\n",
    "dir(move)\n",
    "print(move.id)\n",
    "print(move.name)\n",
    "print(move.pp)\n",
    "print(move.power)\n",
    "print(move.priority)\n",
    "print(move.damage_class.name)\n",
    "print(move.type.name)\n",
    "print(g_map[move.generation.name])\n",
    "print(move.effect_entries[0].effect)\n",
    "\n",
    "\n",
    "\n"
   ]
  },
  {
   "cell_type": "code",
   "execution_count": 6,
   "metadata": {},
   "outputs": [
    {
     "name": "stdout",
     "output_type": "stream",
     "text": [
      "2167\n"
     ]
    }
   ],
   "source": [
    "print(len(af_relations))"
   ]
  },
  {
   "cell_type": "code",
   "execution_count": null,
   "metadata": {},
   "outputs": [],
   "source": [
    "connection.close()"
   ]
  },
  {
   "cell_type": "code",
   "execution_count": 26,
   "metadata": {},
   "outputs": [
    {
     "name": "stdout",
     "output_type": "stream",
     "text": [
      "razor-wind\n",
      "egg\n",
      "0\n",
      "crystal\n"
     ]
    }
   ],
   "source": [
    "print(client.get_pokemon(1).moves[0].move.name)\n",
    "print(client.get_pokemon(1).moves[0].version_group_details[-1].move_learn_method.name)\n",
    "print(client.get_pokemon(1).moves[0].version_group_details[-1].level_learned_at)\n",
    "print(client.get_pokemon(1).moves[0].version_group_details[-1].version_group.name)"
   ]
  },
  {
   "cell_type": "code",
   "execution_count": null,
   "metadata": {},
   "outputs": [],
   "source": []
  }
 ],
 "metadata": {
  "kernelspec": {
   "display_name": "Python 3",
   "language": "python",
   "name": "python3"
  },
  "language_info": {
   "codemirror_mode": {
    "name": "ipython",
    "version": 3
   },
   "file_extension": ".py",
   "mimetype": "text/x-python",
   "name": "python",
   "nbconvert_exporter": "python",
   "pygments_lexer": "ipython3",
   "version": "3.7.6"
  }
 },
 "nbformat": 4,
 "nbformat_minor": 4
}
