{
 "cells": [
  {
   "cell_type": "code",
   "execution_count": 3,
   "metadata": {},
   "outputs": [],
   "source": [
    "from MySQLdb import _mysql\n",
    "import mysql.connector\n",
    "import pokepy\n",
    "import time"
   ]
  },
  {
   "cell_type": "code",
   "execution_count": 30,
   "metadata": {},
   "outputs": [],
   "source": [
    "# generation map to integer\n",
    "g_map = {\n",
    "    \"generation-i\" : 1,\n",
    "    \"generation-ii\": 2,\n",
    "    \"generation-iii\": 3,\n",
    "    \"generation-iv\": 4,\n",
    "    \"generation-v\": 5,\n",
    "    \"generation-vi\": 6,\n",
    "    \"generation-vii\": 7,\n",
    "    \"generation-viii\": 8,\n",
    "    \"generation-ix\": 9, \n",
    "}\n",
    "# pokemon api client\n",
    "client = pokepy.V2Client()"
   ]
  },
  {
   "cell_type": "code",
   "execution_count": 28,
   "metadata": {},
   "outputs": [],
   "source": [
    "# obtain datas for pokemon specie\n",
    "TOTAL_POKEMON = 893\n",
    "pokemon_species = []\n",
    "for i in range(1, TOTAL_POKEMON+1):\n",
    "    specie = client.get_pokemon_species(i)\n",
    "    entry = []\n",
    "    entry.append(specie.name)\n",
    "    entry.append(specie.id)\n",
    "    entry.append(g_map[specie.generation.name])\n",
    "    entry.append(specie.gender_rate)\n",
    "    entry.append(specie.capture_rate)\n",
    "    pokemon_species.append(tuple(entry))"
   ]
  },
  {
   "cell_type": "code",
   "execution_count": 49,
   "metadata": {},
   "outputs": [],
   "source": [
    "# insert pokemon species into db\n",
    "connection = mysql.connector.connect(host='localhost',\n",
    "                                         database='cs411',\n",
    "                                         user='root',\n",
    "                                         password='')\n",
    "mycursor = connection.cursor()\n",
    "mycursor.executemany(\"\"\"INSERT INTO pokewiki_s_table(s_name, dex_id, gen, gender_rate, capture_rate) \n",
    "                        VALUES (%s, %s, %s, %s, %s)\"\"\",pokemon_species)\n",
    "connection.commit()\n",
    "mycursor.close()\n",
    "connection.close()   "
   ]
  },
  {
   "cell_type": "code",
   "execution_count": null,
   "metadata": {},
   "outputs": [],
   "source": [
    "# pokemon forms\n",
    "TOTAL_POKEMON = 893\n",
    "pokemon_forms = []"
   ]
  },
  {
   "cell_type": "code",
   "execution_count": 63,
   "metadata": {},
   "outputs": [],
   "source": [
    "# normal pokemons\n",
    "# for i in range(1, TOTAL_POKEMON+1):\n",
    "#     form = client.get_pokemon(i)\n",
    "#     entry = []\n",
    "#     entry.append(form.name)\n",
    "#     entry.append(form.species.name)\n",
    "#     entry.append(form.height)\n",
    "#     entry.append(form.weight)\n",
    "#     if(len(form.stats) != 0):\n",
    "#         for j in range(0, 6):\n",
    "#             entry.append(form.stats[j].base_stat)\n",
    "#     else:\n",
    "#         for j in range(0, 6):\n",
    "#             entry.append(None)\n",
    "#     entry.append(form.types[0].type.name)\n",
    "#     if(len(form.types) == 2):\n",
    "#         entry.append(form.types[1].type.name)\n",
    "#     else:\n",
    "#         entry.append(\"\")\n",
    "#     pokemon_forms.append(tuple(entry))\n",
    "# mega pokemons\n",
    "# for i in range(10001, 10157+1):\n",
    "#     form = client.get_pokemon(i)\n",
    "#     entry = []\n",
    "#     entry.append(form.name)\n",
    "#     entry.append(form.species.name)\n",
    "#     entry.append(form.height)\n",
    "#     entry.append(form.weight)\n",
    "#     if(len(form.stats) != 0):\n",
    "#         for j in range(0, 6):\n",
    "#             entry.append(form.stats[j].base_stat)\n",
    "#     else:\n",
    "#         for j in range(0, 6):\n",
    "#             entry.append(None)\n",
    "#     entry.append(form.types[0].type.name)\n",
    "#     if(len(form.types) == 2):\n",
    "#         entry.append(form.types[1].type.name)\n",
    "#     else:\n",
    "#         entry.append(\"\")\n",
    "#     pokemon_forms.append(tuple(entry))"
   ]
  },
  {
   "cell_type": "code",
   "execution_count": 71,
   "metadata": {},
   "outputs": [],
   "source": [
    "# insert pokemon forms into db\n",
    "connection = mysql.connector.connect(host='localhost',\n",
    "                                         database='cs411',\n",
    "                                         user='root',\n",
    "                                         password='')\n",
    "mycursor = connection.cursor()\n",
    "mycursor.executemany(\"\"\"INSERT INTO pokewiki_f_table(f_name,s_name_id,height,weight,hp,atk,df,spatk,spdf,spd,type1,type2) \n",
    "                        VALUES (%s, %s, %s, %s, %s, %s, %s, %s, %s, %s, %s, %s)\"\"\",pokemon_forms)\n",
    "connection.commit()\n",
    "mycursor.close()\n",
    "connection.close()  "
   ]
  },
  {
   "cell_type": "code",
   "execution_count": null,
   "metadata": {},
   "outputs": [],
   "source": [
    "types"
   ]
  },
  {
   "cell_type": "code",
   "execution_count": 73,
   "metadata": {},
   "outputs": [],
   "source": [
    "# insert types in pokewiki_t_table\n",
    "connection = mysql.connector.connect(host='localhost',\n",
    "                                         database='cs411',\n",
    "                                         user='root',\n",
    "                                         password='')\n",
    "mycursor = connection.cursor()\n",
    "# sql = \n",
    "val = [('normal', 0), ('fire',1), ('water',2), ('grass',3), ('flying',4), ('fighting',5), ('poison',6), ('electric',7), ('ground',8), ('rock',9), ('psychic',10), ('ice',11), ('bug',12), ('ghost',13), ('steel',14), ('dragon',15), ('dark',16), ('fairy',17)]\n",
    "# val = (\"Normal\")\n",
    "mycursor.executemany(\"INSERT INTO pokewiki_t_table(t_name, t_id) VALUES (%s, %s)\",val)\n",
    "connection.commit()\n",
    "mycursor.close()\n",
    "connection.close()"
   ]
  },
  {
   "cell_type": "code",
   "execution_count": null,
   "metadata": {},
   "outputs": [],
   "source": [
    "# ability relation and table"
   ]
  },
  {
   "cell_type": "code",
   "execution_count": 4,
   "metadata": {},
   "outputs": [],
   "source": [
    "af_relations = []\n",
    "for j in range(1, 234):\n",
    "    ability = client.get_ability(j)\n",
    "    for i in range(0, len(ability.pokemon)):\n",
    "        temp = []\n",
    "        temp.append(ability.id)\n",
    "        temp.append(ability.pokemon[i].pokemon.name)\n",
    "        temp.append(ability.pokemon[i].is_hidden)\n",
    "        af_relations.append(tuple(temp))"
   ]
  },
  {
   "cell_type": "code",
   "execution_count": 8,
   "metadata": {},
   "outputs": [],
   "source": [
    "connection = mysql.connector.connect(host='localhost',\n",
    "                                         database='cs411',\n",
    "                                         user='root',\n",
    "                                         password='')\n",
    "mycursor = connection.cursor()\n",
    "mycursor.executemany(\"\"\"INSERT INTO pokewiki_a_relation(a_id, f_name_id, is_hidden) \n",
    "                        VALUES (%s, %s, %s)\"\"\",af_relations)\n",
    "connection.commit()\n",
    "mycursor.close()\n",
    "connection.close()"
   ]
  },
  {
   "cell_type": "code",
   "execution_count": 3,
   "metadata": {},
   "outputs": [],
   "source": [
    "abilities = []\n",
    "for i in range(1,234):\n",
    "    temp = []\n",
    "    ability = client.get_ability(i)\n",
    "    temp.append(ability.id)\n",
    "    temp.append(ability.name)\n",
    "    if i <= 191:\n",
    "        temp.append(ability.effect_entries[1].effect)\n",
    "    else: \n",
    "        temp.append(ability.effect_entries[0].effect)\n",
    "    abilities.append(tuple(temp))"
   ]
  },
  {
   "cell_type": "code",
   "execution_count": 5,
   "metadata": {},
   "outputs": [],
   "source": [
    "connection = mysql.connector.connect(host='localhost',\n",
    "                                         database='cs411',\n",
    "                                         user='root',\n",
    "                                         password='')\n",
    "mycursor = connection.cursor()\n",
    "mycursor.executemany(\"\"\"INSERT INTO pokewiki_a_table(a_id, a_name, description) \n",
    "                        VALUES (%s, %s, %s)\"\"\",abilities)\n",
    "connection.commit()\n",
    "mycursor.close()\n",
    "connection.close()"
   ]
  },
  {
   "cell_type": "code",
   "execution_count": 39,
   "metadata": {},
   "outputs": [],
   "source": [
    "# moves\n",
    "TOTAL_MOVES = 796\n",
    "moves = []"
   ]
  },
  {
   "cell_type": "code",
   "execution_count": 40,
   "metadata": {},
   "outputs": [],
   "source": [
    "for i in range(1, TOTAL_MOVES+1):\n",
    "    if(i == 785):\n",
    "        moves.append((\"Branch Poke\", 785, 0, 0, 0 ,0,0, \"\", \"\", 0))\n",
    "        continue\n",
    "    entry = []\n",
    "    move = client.get_move(i)\n",
    "    entry.append(move.name)\n",
    "    entry.append(move.id)\n",
    "    entry.append(move.pp)\n",
    "    entry.append(move.power)\n",
    "    entry.append(move.priority)\n",
    "    entry.append(move.accuracy)\n",
    "    if(move.damage_class == None):\n",
    "        entry.append(\"\")\n",
    "    else:\n",
    "        entry.append(move.damage_class.name)\n",
    "    entry.append(move.type.name)\n",
    "    if(len(move.effect_entries) == 0):\n",
    "        entry.append(\"\")\n",
    "    else:\n",
    "        entry.append(move.effect_entries[0].effect)\n",
    "\n",
    "    entry.append(g_map[move.generation.name])\n",
    "    moves.append(tuple(entry))\n",
    "# move = client.get_move(13)\n",
    "# dir(move)\n",
    "# print(move.id)\n",
    "# print(move.name)\n",
    "# print(move.pp)\n",
    "# print(move.power)\n",
    "# print(move.priority)\n",
    "# print(move.damage_class.name)\n",
    "# print(move.type.name)\n",
    "# print(g_map[move.generation.name])\n",
    "# print(move.effect_entries[0].effect)"
   ]
  },
  {
   "cell_type": "code",
   "execution_count": 79,
   "metadata": {},
   "outputs": [],
   "source": [
    "connection = mysql.connector.connect(host='localhost',\n",
    "                                         database='cs411',\n",
    "                                         user='root',\n",
    "                                         password='')\n",
    "mycursor = connection.cursor()\n",
    "mycursor.executemany(\"\"\"INSERT INTO pokewiki_m_table(m_name, m_id, pp, power, priority, accuaracy, dmg_class, types, effect, gen) \n",
    "                        VALUES (%s, %s, %s, %s, %s, %s, %s, %s, %s, %s)\"\"\",moves)\n",
    "connection.commit()\n",
    "mycursor.close()\n",
    "connection.close()"
   ]
  },
  {
   "cell_type": "code",
   "execution_count": 32,
   "metadata": {},
   "outputs": [
    {
     "ename": "MissingUidException",
     "evalue": "",
     "output_type": "error",
     "traceback": [
      "\u001b[0;31m---------------------------------------------------------------------------\u001b[0m",
      "\u001b[0;31mMissingUidException\u001b[0m                       Traceback (most recent call last)",
      "\u001b[0;32m<ipython-input-32-3de595d78c0f>\u001b[0m in \u001b[0;36m<module>\u001b[0;34m\u001b[0m\n\u001b[1;32m      1\u001b[0m \u001b[0;32mfor\u001b[0m \u001b[0mi\u001b[0m \u001b[0;32min\u001b[0m \u001b[0mrange\u001b[0m\u001b[0;34m(\u001b[0m\u001b[0;36m0\u001b[0m\u001b[0;34m,\u001b[0m \u001b[0;36m1\u001b[0m\u001b[0;34m)\u001b[0m\u001b[0;34m:\u001b[0m\u001b[0;34m\u001b[0m\u001b[0;34m\u001b[0m\u001b[0m\n\u001b[0;32m----> 2\u001b[0;31m     \u001b[0mp\u001b[0m \u001b[0;34m=\u001b[0m \u001b[0mclient\u001b[0m\u001b[0;34m.\u001b[0m\u001b[0mget_pokemon\u001b[0m\u001b[0;34m(\u001b[0m\u001b[0mi\u001b[0m\u001b[0;34m)\u001b[0m\u001b[0;34m\u001b[0m\u001b[0;34m\u001b[0m\u001b[0m\n\u001b[0m\u001b[1;32m      3\u001b[0m     \u001b[0;32mfor\u001b[0m \u001b[0mm\u001b[0m \u001b[0;32min\u001b[0m \u001b[0mpokemon\u001b[0m\u001b[0;34m.\u001b[0m\u001b[0mmoves\u001b[0m\u001b[0;34m:\u001b[0m\u001b[0;34m\u001b[0m\u001b[0;34m\u001b[0m\u001b[0m\n\u001b[1;32m      4\u001b[0m         \u001b[0mprint\u001b[0m\u001b[0;34m(\u001b[0m\u001b[0mpokemon\u001b[0m\u001b[0;34m.\u001b[0m\u001b[0mmove\u001b[0m\u001b[0;34m.\u001b[0m\u001b[0mname\u001b[0m\u001b[0;34m)\u001b[0m\u001b[0;34m\u001b[0m\u001b[0;34m\u001b[0m\u001b[0m\n\u001b[1;32m      5\u001b[0m         \u001b[0mprint\u001b[0m\u001b[0;34m(\u001b[0m\u001b[0mm\u001b[0m\u001b[0;34m.\u001b[0m\u001b[0mversion_group_details\u001b[0m\u001b[0;34m[\u001b[0m\u001b[0;34m-\u001b[0m\u001b[0;36m1\u001b[0m\u001b[0;34m]\u001b[0m\u001b[0;34m.\u001b[0m\u001b[0mmove_learn_method\u001b[0m\u001b[0;34m.\u001b[0m\u001b[0mname\u001b[0m\u001b[0;34m)\u001b[0m\u001b[0;34m\u001b[0m\u001b[0;34m\u001b[0m\u001b[0m\n",
      "\u001b[0;32m~/opt/anaconda3/lib/python3.7/site-packages/pokepy/api.py\u001b[0m in \u001b[0;36minner\u001b[0;34m(*args, **kwargs)\u001b[0m\n\u001b[1;32m     94\u001b[0m                 \u001b[0;34m@\u001b[0m\u001b[0mfunctools\u001b[0m\u001b[0;34m.\u001b[0m\u001b[0mwraps\u001b[0m\u001b[0;34m(\u001b[0m\u001b[0mfunc\u001b[0m\u001b[0;34m)\u001b[0m\u001b[0;34m\u001b[0m\u001b[0;34m\u001b[0m\u001b[0m\n\u001b[1;32m     95\u001b[0m                 \u001b[0;32mdef\u001b[0m \u001b[0minner\u001b[0m\u001b[0;34m(\u001b[0m\u001b[0;34m*\u001b[0m\u001b[0margs\u001b[0m\u001b[0;34m,\u001b[0m \u001b[0;34m**\u001b[0m\u001b[0mkwargs\u001b[0m\u001b[0;34m)\u001b[0m\u001b[0;34m:\u001b[0m\u001b[0;34m\u001b[0m\u001b[0;34m\u001b[0m\u001b[0m\n\u001b[0;32m---> 96\u001b[0;31m                     \u001b[0;32mreturn\u001b[0m \u001b[0mfunc\u001b[0m\u001b[0;34m(\u001b[0m\u001b[0;34m*\u001b[0m\u001b[0margs\u001b[0m\u001b[0;34m,\u001b[0m \u001b[0;34m**\u001b[0m\u001b[0mkwargs\u001b[0m\u001b[0;34m)\u001b[0m\u001b[0;34m\u001b[0m\u001b[0;34m\u001b[0m\u001b[0m\n\u001b[0m\u001b[1;32m     97\u001b[0m                 \u001b[0;32mreturn\u001b[0m \u001b[0minner\u001b[0m\u001b[0;34m\u001b[0m\u001b[0;34m\u001b[0m\u001b[0m\n\u001b[1;32m     98\u001b[0m             \u001b[0mcache_function\u001b[0m \u001b[0;34m=\u001b[0m \u001b[0mno_cache\u001b[0m\u001b[0;34m\u001b[0m\u001b[0;34m\u001b[0m\u001b[0m\n",
      "\u001b[0;32m~/opt/anaconda3/lib/python3.7/site-packages/pokepy/api.py\u001b[0m in \u001b[0;36minner\u001b[0;34m(*args, **kwargs)\u001b[0m\n\u001b[1;32m    151\u001b[0m             \u001b[0;34m@\u001b[0m\u001b[0mfunctools\u001b[0m\u001b[0;34m.\u001b[0m\u001b[0mwraps\u001b[0m\u001b[0;34m(\u001b[0m\u001b[0mfunc\u001b[0m\u001b[0;34m)\u001b[0m\u001b[0;34m\u001b[0m\u001b[0;34m\u001b[0m\u001b[0m\n\u001b[1;32m    152\u001b[0m             \u001b[0;32mdef\u001b[0m \u001b[0minner\u001b[0m\u001b[0;34m(\u001b[0m\u001b[0;34m*\u001b[0m\u001b[0margs\u001b[0m\u001b[0;34m,\u001b[0m \u001b[0;34m**\u001b[0m\u001b[0mkwargs\u001b[0m\u001b[0;34m)\u001b[0m\u001b[0;34m:\u001b[0m\u001b[0;34m\u001b[0m\u001b[0;34m\u001b[0m\u001b[0m\n\u001b[0;32m--> 153\u001b[0;31m                 \u001b[0mfinal\u001b[0m \u001b[0;34m=\u001b[0m \u001b[0mfunc\u001b[0m\u001b[0;34m(\u001b[0m\u001b[0;34m*\u001b[0m\u001b[0margs\u001b[0m\u001b[0;34m,\u001b[0m \u001b[0;34m**\u001b[0m\u001b[0mkwargs\u001b[0m\u001b[0;34m)\u001b[0m\u001b[0;34m\u001b[0m\u001b[0;34m\u001b[0m\u001b[0m\n\u001b[0m\u001b[1;32m    154\u001b[0m                 \u001b[0;32mif\u001b[0m \u001b[0mlen\u001b[0m\u001b[0;34m(\u001b[0m\u001b[0mfinal\u001b[0m\u001b[0;34m)\u001b[0m \u001b[0;34m==\u001b[0m \u001b[0;36m1\u001b[0m\u001b[0;34m:\u001b[0m\u001b[0;34m\u001b[0m\u001b[0;34m\u001b[0m\u001b[0m\n\u001b[1;32m    155\u001b[0m                     \u001b[0mfinal\u001b[0m \u001b[0;34m=\u001b[0m \u001b[0mfinal\u001b[0m\u001b[0;34m[\u001b[0m\u001b[0;36m0\u001b[0m\u001b[0;34m]\u001b[0m\u001b[0;34m\u001b[0m\u001b[0;34m\u001b[0m\u001b[0m\n",
      "\u001b[0;32m~/opt/anaconda3/lib/python3.7/site-packages/pokepy/api.py\u001b[0m in \u001b[0;36mget\u001b[0;34m(self, uid, method_type, method_name, valid_status_codes, resource, data, **kwargs)\u001b[0m\n\u001b[1;32m    168\u001b[0m                 \u001b[0mmethod_type\u001b[0m\u001b[0;34m,\u001b[0m \u001b[0mmethod_name\u001b[0m\u001b[0;34m,\u001b[0m\u001b[0;34m\u001b[0m\u001b[0;34m\u001b[0m\u001b[0m\n\u001b[1;32m    169\u001b[0m                 \u001b[0mvalid_status_codes\u001b[0m\u001b[0;34m,\u001b[0m \u001b[0mresource\u001b[0m\u001b[0;34m,\u001b[0m\u001b[0;34m\u001b[0m\u001b[0;34m\u001b[0m\u001b[0m\n\u001b[0;32m--> 170\u001b[0;31m                 data, uid=uid, **kwargs)\n\u001b[0m\u001b[1;32m    171\u001b[0m \u001b[0;34m\u001b[0m\u001b[0m\n\u001b[1;32m    172\u001b[0m         \u001b[0;31m# only GET method is used\u001b[0m\u001b[0;34m\u001b[0m\u001b[0;34m\u001b[0m\u001b[0;34m\u001b[0m\u001b[0m\n",
      "\u001b[0;32m~/opt/anaconda3/lib/python3.7/site-packages/beckett/clients.py\u001b[0m in \u001b[0;36mcall_api\u001b[0;34m(self, method_type, method_name, valid_status_codes, resource, data, uid, **kwargs)\u001b[0m\n\u001b[1;32m     84\u001b[0m         \u001b[0;32mif\u001b[0m \u001b[0mmethod_type\u001b[0m \u001b[0;32min\u001b[0m \u001b[0mSINGLE_RESOURCE_METHODS\u001b[0m\u001b[0;34m:\u001b[0m\u001b[0;34m\u001b[0m\u001b[0;34m\u001b[0m\u001b[0m\n\u001b[1;32m     85\u001b[0m             \u001b[0;32mif\u001b[0m \u001b[0;32mnot\u001b[0m \u001b[0muid\u001b[0m \u001b[0;32mand\u001b[0m \u001b[0;32mnot\u001b[0m \u001b[0mkwargs\u001b[0m\u001b[0;34m:\u001b[0m\u001b[0;34m\u001b[0m\u001b[0;34m\u001b[0m\u001b[0m\n\u001b[0;32m---> 86\u001b[0;31m                 \u001b[0;32mraise\u001b[0m \u001b[0mMissingUidException\u001b[0m\u001b[0;34m\u001b[0m\u001b[0;34m\u001b[0m\u001b[0m\n\u001b[0m\u001b[1;32m     87\u001b[0m             url = resource.get_url(\n\u001b[1;32m     88\u001b[0m                 url=url, uid=uid, **kwargs)\n",
      "\u001b[0;31mMissingUidException\u001b[0m: "
     ]
    }
   ],
   "source": [
    "for i in range(0, 1):\n",
    "    p = client.get_pokemon(i)\n",
    "    for m in pokemon.moves:\n",
    "        print(pokemon.move.name)\n",
    "        print(m.version_group_details[-1].move_learn_method.name)\n",
    "        print(m.version_group_details[-1].level_learned_at)\n",
    "        print(m.version_group_details[-1].version_group.name)"
   ]
  },
  {
   "cell_type": "code",
   "execution_count": 58,
   "metadata": {},
   "outputs": [
    {
     "name": "stdout",
     "output_type": "stream",
     "text": [
      "2554\n",
      "118\n"
     ]
    }
   ],
   "source": [
    "max = len(moves[0][8])\n",
    "index = 0\n",
    "for i in range(0, 796):\n",
    "    if len(moves[i][8]) >= max:\n",
    "        max = len(moves[i][8])\n",
    "        index = i\n",
    "print(max)\n",
    "print(index)"
   ]
  },
  {
   "cell_type": "code",
   "execution_count": 70,
   "metadata": {},
   "outputs": [
    {
     "name": "stdout",
     "output_type": "stream",
     "text": [
      "Transfers 1/4 the user's max HP into a doll that absorbs damage and causes most negative move effects to fail.  If the user leaves the field, the doll will vanish.  If the user cannot pay the HP cost, this move will fail.\n",
      "\n",
      "The doll takes damage as normal, using the user's stats and types, and will break when its HP reaches zero.  Self-inflicted damage from confusion or recoil is not absorbed.  Healing effects from opponents ignore the doll and heal the user as normal.  Moves that work based on the user's HP still do so; the doll's HP does not influence any move.\n",
      "\n",
      "The doll will block major status effects, confusion, and flinching.  The effects of smelling salts and wake up slap do not trigger against a doll, even if the Pokémon behind the doll has the appropriate major status effect.  Multi-turn trapping moves like wrap will hit the doll for their regular damage, but the multi-turn trapping and damage effects will not activate.\n",
      "\n",
      "Moves blocked or damage absorbed by the doll do not count as hitting the user or inflicting damage for any effects that respond to such, e.g., avalanche, counter, or a rowap berry.  magic coat still works as normal, even against moves the doll would block.  Opposing Pokémon that damage the doll with a leech move like absorb are healed as normal.\n",
      "\n",
      "It will also block acupressure, block, the curse effect of curse, dream eater, embargo, flatter, gastro acid, grudge, heal block, leech seed, lock on, mean look, mimic, mind reader, nightmare, pain split, psycho shift, spider web, sketch, swagger, switcheroo, trick, worry seed, and yawn.  A Pokémon affected by yawn before summoning the doll will still fall to sleep.\n",
      "\n",
      "The doll blocks intimidate, but all other abilities act as though the doll did not exist.  If the user has an ability that absorbs moves of a certain type for HP (such as volt absorb absorbing thunder wave), such moves will not be blocked.\n",
      "\n",
      "life orb and berries that cause confusion still work as normal, but their respective HP loss and confusion are absorbed/blocked by the doll.\n",
      "\n",
      "The user is still vulnerable to damage inflicted when entering or leaving the field, such as by pursuit or spikes; however, the doll will block the poison effect of toxic spikes.\n",
      "\n",
      "The doll is passed on by baton pass.  It keeps its existing HP, but uses the replacement Pokémon's stats and types for damage calculation.\n",
      "\n",
      "All other effects work as normal.\n"
     ]
    }
   ],
   "source": [
    "print(moves[163][8])"
   ]
  },
  {
   "cell_type": "code",
   "execution_count": 67,
   "metadata": {},
   "outputs": [],
   "source": [
    "moves[118] = tuple(moves[118])"
   ]
  },
  {
   "cell_type": "code",
   "execution_count": 65,
   "metadata": {},
   "outputs": [],
   "source": [
    "moves[118][8] = \"\"\"Uses the last move targeted at the user by a Pokémon still on the field.  A move counts as targeting the user even if it hit multiple Pokémon, as long as the user was one of them; however, moves targeting the field itself do not count.  If the user has not been targeted by an appropriate move since entering the field, or if no Pokémon that targeted the user remains on the field, this move will fail.\n",
    "Moves that failed, missed, had no effect, or were blocked are still copied. Assist moves, time-delayed moves, “meta” moves that operate on other moves/Pokémon/abilities, and some other special moves cannot be copied and are ignored; if the last move to hit the user was such a move, the previous move will be used instead. This move cannot be selected by assist, metronome, or sleep talk, nor forced by encore.\"\"\""
   ]
  },
  {
   "cell_type": "code",
   "execution_count": 75,
   "metadata": {},
   "outputs": [
    {
     "data": {
      "text/plain": [
       "'never-ending-nightmare--physical'"
      ]
     },
     "execution_count": 75,
     "metadata": {},
     "output_type": "execute_result"
    }
   ],
   "source": [
    "moves[635][0]"
   ]
  },
  {
   "cell_type": "code",
   "execution_count": 78,
   "metadata": {},
   "outputs": [],
   "source": [
    "connection.close()"
   ]
  },
  {
   "cell_type": "code",
   "execution_count": null,
   "metadata": {},
   "outputs": [],
   "source": []
  }
 ],
 "metadata": {
  "kernelspec": {
   "display_name": "Python 3",
   "language": "python",
   "name": "python3"
  },
  "language_info": {
   "codemirror_mode": {
    "name": "ipython",
    "version": 3
   },
   "file_extension": ".py",
   "mimetype": "text/x-python",
   "name": "python",
   "nbconvert_exporter": "python",
   "pygments_lexer": "ipython3",
   "version": "3.7.6"
  }
 },
 "nbformat": 4,
 "nbformat_minor": 4
}
