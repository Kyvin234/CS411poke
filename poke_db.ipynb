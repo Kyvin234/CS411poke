{
 "cells": [
  {
   "cell_type": "code",
   "execution_count": 125,
   "metadata": {},
   "outputs": [],
   "source": [
    "from MySQLdb import _mysql\n",
    "import mysql.connector\n",
    "import pokepy\n",
    "TOTAL_NUM = 893"
   ]
  },
  {
   "cell_type": "code",
   "execution_count": 189,
   "metadata": {},
   "outputs": [],
   "source": [
    "connection = mysql.connector.connect(host='localhost',\n",
    "                                         database='cs411',\n",
    "                                         user='root',\n",
    "                                         password='')"
   ]
  },
  {
   "cell_type": "code",
   "execution_count": 127,
   "metadata": {},
   "outputs": [],
   "source": [
    "client = pokepy.V2Client()"
   ]
  },
  {
   "cell_type": "code",
   "execution_count": 179,
   "metadata": {},
   "outputs": [
    {
     "name": "stdout",
     "output_type": "stream",
     "text": [
      "[<Pokemon - Bulbasaur>, <Pokemon - Ivysaur>, <Pokemon - Venusaur>, <Pokemon - Charmander>, <Pokemon - Charmeleon>, <Pokemon - Charizard>, <Pokemon - Squirtle>, <Pokemon - Wartortle>, <Pokemon - Blastoise>, <Pokemon - Caterpie>, <Pokemon - Metapod>, <Pokemon - Butterfree>, <Pokemon - Weedle>, <Pokemon - Kakuna>, <Pokemon - Beedrill>, <Pokemon - Pidgey>, <Pokemon - Pidgeotto>, <Pokemon - Pidgeot>, <Pokemon - Rattata>, <Pokemon - Raticate>, <Pokemon - Spearow>, <Pokemon - Fearow>, <Pokemon - Ekans>, <Pokemon - Arbok>, <Pokemon - Pikachu>, <Pokemon - Raichu>, <Pokemon - Sandshrew>, <Pokemon - Sandslash>, <Pokemon - Nidoran-f>, <Pokemon - Nidorina>, <Pokemon - Nidoqueen>, <Pokemon - Nidoran-m>, <Pokemon - Nidorino>, <Pokemon - Nidoking>, <Pokemon - Clefairy>, <Pokemon - Clefable>, <Pokemon - Vulpix>, <Pokemon - Ninetales>, <Pokemon - Jigglypuff>, <Pokemon - Wigglytuff>, <Pokemon - Zubat>, <Pokemon - Golbat>, <Pokemon - Oddish>, <Pokemon - Gloom>, <Pokemon - Vileplume>, <Pokemon - Paras>, <Pokemon - Parasect>, <Pokemon - Venonat>, <Pokemon - Venomoth>, <Pokemon - Diglett>, <Pokemon - Dugtrio>, <Pokemon - Meowth>, <Pokemon - Persian>, <Pokemon - Psyduck>, <Pokemon - Golduck>, <Pokemon - Mankey>, <Pokemon - Primeape>, <Pokemon - Growlithe>, <Pokemon - Arcanine>, <Pokemon - Poliwag>, <Pokemon - Poliwhirl>, <Pokemon - Poliwrath>, <Pokemon - Abra>, <Pokemon - Kadabra>, <Pokemon - Alakazam>, <Pokemon - Machop>, <Pokemon - Machoke>, <Pokemon - Machamp>, <Pokemon - Bellsprout>, <Pokemon - Weepinbell>, <Pokemon - Victreebel>, <Pokemon - Tentacool>, <Pokemon - Tentacruel>, <Pokemon - Geodude>, <Pokemon - Graveler>, <Pokemon - Golem>, <Pokemon - Ponyta>, <Pokemon - Rapidash>, <Pokemon - Slowpoke>, <Pokemon - Slowbro>, <Pokemon - Magnemite>, <Pokemon - Magneton>, <Pokemon - Farfetchd>, <Pokemon - Doduo>, <Pokemon - Dodrio>, <Pokemon - Seel>, <Pokemon - Dewgong>, <Pokemon - Grimer>, <Pokemon - Muk>, <Pokemon - Shellder>, <Pokemon - Cloyster>, <Pokemon - Gastly>, <Pokemon - Haunter>, <Pokemon - Gengar>, <Pokemon - Onix>, <Pokemon - Drowzee>, <Pokemon - Hypno>, <Pokemon - Krabby>, <Pokemon - Kingler>, <Pokemon - Voltorb>, <Pokemon - Electrode>, <Pokemon - Exeggcute>, <Pokemon - Exeggutor>, <Pokemon - Cubone>, <Pokemon - Marowak>, <Pokemon - Hitmonlee>, <Pokemon - Hitmonchan>, <Pokemon - Lickitung>, <Pokemon - Koffing>, <Pokemon - Weezing>, <Pokemon - Rhyhorn>, <Pokemon - Rhydon>, <Pokemon - Chansey>, <Pokemon - Tangela>, <Pokemon - Kangaskhan>, <Pokemon - Horsea>, <Pokemon - Seadra>, <Pokemon - Goldeen>, <Pokemon - Seaking>, <Pokemon - Staryu>, <Pokemon - Starmie>, <Pokemon - Mr-mime>, <Pokemon - Scyther>, <Pokemon - Jynx>, <Pokemon - Electabuzz>, <Pokemon - Magmar>, <Pokemon - Pinsir>, <Pokemon - Tauros>, <Pokemon - Magikarp>, <Pokemon - Gyarados>, <Pokemon - Lapras>, <Pokemon - Ditto>, <Pokemon - Eevee>, <Pokemon - Vaporeon>, <Pokemon - Jolteon>, <Pokemon - Flareon>, <Pokemon - Porygon>, <Pokemon - Omanyte>, <Pokemon - Omastar>, <Pokemon - Kabuto>, <Pokemon - Kabutops>, <Pokemon - Aerodactyl>, <Pokemon - Snorlax>, <Pokemon - Articuno>, <Pokemon - Zapdos>, <Pokemon - Moltres>, <Pokemon - Dratini>, <Pokemon - Dragonair>, <Pokemon - Dragonite>, <Pokemon - Mewtwo>, <Pokemon - Mew>]\n"
     ]
    }
   ],
   "source": [
    "pokemons = []\n",
    "pokemon_species = []\n",
    "for i in range(1, 152):\n",
    "    pokemons.append(client.get_pokemon(i))\n",
    "    pokemon_species.append(client.get_pokemon_species(i))\n",
    "print(pokemons)"
   ]
  },
  {
   "cell_type": "code",
   "execution_count": 173,
   "metadata": {},
   "outputs": [],
   "source": [
    "# insert types in pokewiki_t_table\n",
    "mycursor = connection.cursor()\n",
    "# sql = \n",
    "val = [('normal', 0), ('fire',1), ('water',2), ('grass',3), ('flying',4), ('fighting',5), ('poison',6), ('electric',7), ('ground',8), ('rock',9), ('psychic',10), ('ice',11), ('bug',12), ('ghost',13), ('steel',14), ('dragon',15), ('dark',16), ('fairy',17)]\n",
    "# val = (\"Normal\")\n",
    "mycursor.executemany(\"INSERT INTO pokewiki_t_table(t_name, t_id) VALUES (%s, %s)\",val)\n",
    "connection.commit()\n",
    "mycursor.close()\n",
    "connection.close()"
   ]
  },
  {
   "cell_type": "code",
   "execution_count": 190,
   "metadata": {},
   "outputs": [],
   "source": [
    "mycursor = connection.cursor()\n",
    "g_map = {\n",
    "    \"generation-i\" : 1,\n",
    "    \"generation-ii\": 2,\n",
    "    \"generation-iii\": 3,\n",
    "    \"generation-iv\": 4,\n",
    "    \"generation-v\": 5,\n",
    "    \"generation-vi\": 6,\n",
    "    \"generation-vii\": 7,\n",
    "    \"generation-viii\": 8,\n",
    "    \"generation-ix\": 9, \n",
    "}\n",
    "val = []\n",
    "for i in range(0, 151):\n",
    "#     create a row to be inserted \n",
    "    entry = []\n",
    "    entry.append(pokemons[i].id)\n",
    "    entry.append(pokemons[i].name)\n",
    "    entry.append(pokemons[i].height)\n",
    "    entry.append(pokemons[i].weight)\n",
    "    for j in range(0, 6):\n",
    "        entry.append(pokemons[i].stats[j].base_stat)\n",
    "#     print(dir(pokemon_species[i]))\n",
    "#     print(i)\n",
    "    entry.append(g_map[pokemon_species[i].generation.name])\n",
    "    entry.append(pokemon_species[i].gender_rate)\n",
    "    entry.append(pokemon_species[i].capture_rate)\n",
    "    entry.append(pokemons[i].types[0].type.name)\n",
    "    if(len(pokemons[i].types) == 2):\n",
    "        entry.append(pokemons[i].types[1].type.name)\n",
    "    else:\n",
    "        entry.append(\"\")\n",
    "    entry = tuple(entry)\n",
    "    val.append(entry)\n",
    "mycursor.executemany(\"\"\"INSERT INTO pokewiki_p_table(p_id, name, height, weight, hp, atk, df, spatk, spdf, spd, gen, gender_rate, capture_rate,type1, type2) \n",
    "                        VALUES (%s, %s, %s, %s, %s, %s, %s, %s, %s, %s, %s, %s, %s, %s, %s)\"\"\",val)\n",
    "connection.commit()\n",
    "mycursor.close()\n",
    "connection.close()\n",
    "\n",
    "    "
   ]
  },
  {
   "cell_type": "code",
   "execution_count": 165,
   "metadata": {},
   "outputs": [
    {
     "name": "stdout",
     "output_type": "stream",
     "text": [
      "grass\n"
     ]
    }
   ],
   "source": [
    "print(pokemons[0].types[0].type.name)"
   ]
  },
  {
   "cell_type": "code",
   "execution_count": 180,
   "metadata": {},
   "outputs": [
    {
     "name": "stdout",
     "output_type": "stream",
     "text": [
      "151\n"
     ]
    }
   ],
   "source": [
    "print(len(pokemons))"
   ]
  },
  {
   "cell_type": "code",
   "execution_count": 184,
   "metadata": {},
   "outputs": [],
   "source": [
    "connection.close()\n",
    "\n"
   ]
  },
  {
   "cell_type": "code",
   "execution_count": null,
   "metadata": {},
   "outputs": [],
   "source": []
  }
 ],
 "metadata": {
  "kernelspec": {
   "display_name": "Python 3",
   "language": "python",
   "name": "python3"
  },
  "language_info": {
   "codemirror_mode": {
    "name": "ipython",
    "version": 3
   },
   "file_extension": ".py",
   "mimetype": "text/x-python",
   "name": "python",
   "nbconvert_exporter": "python",
   "pygments_lexer": "ipython3",
   "version": "3.7.6"
  }
 },
 "nbformat": 4,
 "nbformat_minor": 4
}
